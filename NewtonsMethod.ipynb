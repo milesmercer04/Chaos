{
 "cells": [
  {
   "cell_type": "markdown",
   "metadata": {},
   "source": [
    "# Newton's Method Exercise"
   ]
  },
  {
   "cell_type": "markdown",
   "metadata": {},
   "source": [
    "## Writing function"
   ]
  },
  {
   "cell_type": "code",
   "execution_count": 13,
   "metadata": {},
   "outputs": [],
   "source": [
    "def newton_method(num, guess, max_iter, err):\n",
    "    # Make sure input is valid\n",
    "    if num < 0:\n",
    "        print(\"Newton's method failed due to negative input\")\n",
    "        return\n",
    "\n",
    "    # Define f and f' according to input value\n",
    "    f = lambda x: x**2 - num\n",
    "    f_prime = lambda x: 2*x\n",
    "\n",
    "    x_old = guess\n",
    "    data = [guess]\n",
    "\n",
    "    for k in range(1, max_iter):\n",
    "        # Make sure code won't cause a divide by zero error\n",
    "        if x_old == 0:\n",
    "            print(\"Newton's method failed due to 'divide by zero' error\")\n",
    "            return\n",
    "        \n",
    "        # Calculate new guess \n",
    "        x_new = x_old - f(x_old) / f_prime(x_old)\n",
    "        data.append(x_new)\n",
    "\n",
    "        # Check if max iterations exceeded\n",
    "        if len(data) > max_iter:\n",
    "            print(f\"Newton's method failed to converge in {max_iter} iterations.\")\n",
    "            return\n",
    "\n",
    "        # Check if method has reached desired precision\n",
    "        if abs(x_old - x_new) < err:\n",
    "            break\n",
    "\n",
    "        x_old = x_new\n",
    "\n",
    "    # Newton's method successful! Print guesses to terminal\n",
    "    for guess in data:\n",
    "        print(guess)"
   ]
  },
  {
   "cell_type": "markdown",
   "metadata": {},
   "source": [
    "## Demonstrating cases"
   ]
  },
  {
   "cell_type": "markdown",
   "metadata": {},
   "source": [
    "(i): $\\sqrt{11}$ to an accuracy of $10^{-5}$, initial seed $x_0 = 100$"
   ]
  },
  {
   "cell_type": "code",
   "execution_count": 14,
   "metadata": {},
   "outputs": [
    {
     "name": "stdout",
     "output_type": "stream",
     "text": [
      "100\n",
      "50.055\n",
      "25.13737913295375\n",
      "12.787487237105545\n",
      "6.8238515747148405\n",
      "4.217922216174798\n",
      "3.4129206687707887\n",
      "3.317983288999192\n",
      "3.316625068463878\n",
      "3.316624790355412\n"
     ]
    }
   ],
   "source": [
    "newton_method(11,100,25,10**-5)"
   ]
  },
  {
   "cell_type": "markdown",
   "metadata": {},
   "source": [
    "(ii): $\\sqrt{11}$ to an accuracy of $10^{-10}$, initial seed $x_0 = 100$"
   ]
  },
  {
   "cell_type": "code",
   "execution_count": 15,
   "metadata": {},
   "outputs": [
    {
     "name": "stdout",
     "output_type": "stream",
     "text": [
      "100\n",
      "50.055\n",
      "25.13737913295375\n",
      "12.787487237105545\n",
      "6.8238515747148405\n",
      "4.217922216174798\n",
      "3.4129206687707887\n",
      "3.317983288999192\n",
      "3.316625068463878\n",
      "3.316624790355412\n",
      "3.3166247903554\n"
     ]
    }
   ],
   "source": [
    "newton_method(11,100,25,10**-10)"
   ]
  },
  {
   "cell_type": "markdown",
   "metadata": {},
   "source": [
    "(iii): $\\sqrt{11}$ to an accuracy of $10^{-20}$, initial seed $x_0 = 100$"
   ]
  },
  {
   "cell_type": "code",
   "execution_count": 16,
   "metadata": {},
   "outputs": [
    {
     "name": "stdout",
     "output_type": "stream",
     "text": [
      "100\n",
      "50.055\n",
      "25.13737913295375\n",
      "12.787487237105545\n",
      "6.8238515747148405\n",
      "4.217922216174798\n",
      "3.4129206687707887\n",
      "3.317983288999192\n",
      "3.316625068463878\n",
      "3.316624790355412\n",
      "3.3166247903554\n",
      "3.3166247903554\n"
     ]
    }
   ],
   "source": [
    "newton_method(11,100,25,10**-20)"
   ]
  },
  {
   "cell_type": "markdown",
   "metadata": {},
   "source": [
    "(iv): $\\sqrt{-1}$"
   ]
  },
  {
   "cell_type": "code",
   "execution_count": 17,
   "metadata": {},
   "outputs": [
    {
     "name": "stdout",
     "output_type": "stream",
     "text": [
      "Newton's method failed due to negative input\n"
     ]
    }
   ],
   "source": [
    "newton_method(-1,100,25,10**-10)"
   ]
  }
 ],
 "metadata": {
  "kernelspec": {
   "display_name": "Python 3",
   "language": "python",
   "name": "python3"
  },
  "language_info": {
   "codemirror_mode": {
    "name": "ipython",
    "version": 3
   },
   "file_extension": ".py",
   "mimetype": "text/x-python",
   "name": "python",
   "nbconvert_exporter": "python",
   "pygments_lexer": "ipython3",
   "version": "3.11.5"
  }
 },
 "nbformat": 4,
 "nbformat_minor": 2
}
