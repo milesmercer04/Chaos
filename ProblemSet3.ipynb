{
 "cells": [
  {
   "cell_type": "markdown",
   "metadata": {},
   "source": [
    "# Problem Set 3"
   ]
  },
  {
   "cell_type": "markdown",
   "metadata": {},
   "source": [
    "## Problem 1:\n",
    "## (a)\n",
    "$$S(x) = \\frac{\\pi}{2}\\sin x$$\n",
    "$\\textbf{Findng fixed points:}$\n",
    "$$\n",
    "\\begin{align*}\n",
    "S(x) &= x \\qquad & \\text{Must be true for x to be a f.p.} \\\\\n",
    "\\frac{\\pi}{2}\\sin x &= x \\\\\n",
    "x &= -\\frac{\\pi}{2}, 0, \\frac{\\pi}{2}\n",
    "\\end{align*}\n",
    "$$\n",
    "$\\textbf{Classifying } p = -\\frac{\\pi}{2}\\textbf{:}$\n",
    "$$\n",
    "|S'(-\\frac{\\pi}{2})| = |\\frac{\\pi}{2}\\cos(-\\frac{\\pi}{2})| = 0 < 1 \\\\\n",
    "\\therefore p = -\\frac{\\pi}{2} \\text{ is attracting.}\n",
    "$$\n",
    "$\\textbf{Classifying } p = 0 \\textbf{:}$\n",
    "$$\n",
    "|S'(0)| = |\\frac{\\pi}{2}\\cos(0)| = \\frac{\\pi}{2} > 1 \\\\\n",
    "\\therefore p = 0 \\text{ is repelling.}\n",
    "$$\n",
    "$\\textbf{Classifying } p = \\frac{\\pi}{2}\\textbf{:}$\n",
    "$$\n",
    "|S'(\\frac{\\pi}{2})| = |\\frac{\\pi}{2}\\cos(\\frac{\\pi}{2})| = 0 < 1 \\\\\n",
    "\\therefore p = \\frac{\\pi}{2} \\text{ is attracting.}\n",
    "$$\n",
    "\n",
    "## (b)\n",
    "$$F(x) = x^4 - 4x^2 + 2$$\n",
    "$\\textbf{Finding fixed points:}$\n",
    "$$\n",
    "F(x) = x \\\\\n",
    "x^4 - 4x^2 + 2 = x \\\\\n",
    "x^4 - 4x^2 - x + 2 = 0 \\\\\n",
    "(x - 2)(x^3 + 2x^2 - 1) = 0 \\\\\n",
    "(x - 2)(x + 1)(x^2 + x - 1) = 0 \\\\\n",
    "x = -1, 2, -\\frac{1}{2}\\pm\\frac{\\sqrt{5}}{2}\n",
    "$$\n",
    "$\\textbf{Classifying } p = -1\\textbf{:}$\n",
    "$$\n",
    "|F'(-1)| = |4(-1)^3 - 8(-1)| = 4 > 1 \\\\\n",
    "\\therefore p = -1 \\text{ is repelling.}\n",
    "$$\n",
    "$\\textbf{Classifying } p = 2\\textbf{:}$\n",
    "$$\n",
    "|F'(2)| = |4(2)^3 - 8(2)| = 8 > 1 \\\\\n",
    "\\therefore p = 2 \\text{ is repelling.}\n",
    "$$\n",
    "$\\textbf{Classifying } p = -\\frac{1}{2}-\\frac{\\sqrt{5}}{2}\\textbf{:}$\n",
    "$$\n",
    "|F'(-\\frac{1}{2}-\\frac{\\sqrt{5}}{2})| = |4(-\\frac{1}{2}-\\frac{\\sqrt{5}}{2})^3 - 8(-\\frac{1}{2}-\\frac{\\sqrt{5}}{2})| = |-4| = 4 > 1 \\\\\n",
    "\\therefore p = -\\frac{1}{2}-\\frac{\\sqrt{5}}{2} \\text{ is repelling.}\n",
    "$$\n",
    "$\\textbf{Classifying } p = -\\frac{1}{2}+\\frac{\\sqrt{5}}{2}\\textbf{:}$\n",
    "$$\n",
    "|F'(-\\frac{1}{2}+\\frac{\\sqrt{5}}{2})| = |4(-\\frac{1}{2}+\\frac{\\sqrt{5}}{2})^3 - 8(-\\frac{1}{2}+\\frac{\\sqrt{5}}{2})| = |-4| = 4 > 1 \\\\\n",
    "\\therefore p = -\\frac{1}{2}+\\frac{\\sqrt{5}}{2} \\text{ is repelling.}\n",
    "$$"
   ]
  },
  {
   "cell_type": "markdown",
   "metadata": {},
   "source": [
    "## Problem 2\n",
    "$$\n",
    "F(x) = \\begin{cases}\n",
    "    x + 1 & x\\leq\\frac{7}{2} \\\\\n",
    "    2x - 8 & x>\\frac{7}{2}\n",
    "\\end{cases}\n",
    "$$\n",
    "$\\textbf{Finding cycle starting with } p = 0 \\textbf{:}$\n",
    "$$\n",
    "F(0) = 1, F(1) = 2, F(2) = 3, F(3) = 4, F(4) = 0 \\\\\n",
    "\\text{5-cycle: } (0,1,2,3,4)\n",
    "$$\n",
    "$\\textbf{Classifying 5-cycle:}$\n",
    "$$\n",
    "F'(x) = \\begin{cases}\n",
    "    1 & x<\\frac{7}{2} \\\\\n",
    "    2 & x>\\frac{7}{2}\n",
    "\\end{cases} \\\\\n",
    "|(F^5)'(x)| = |F'(0)F'(1)F'(2)F'(3)F'(4)| = |(1)(1)(1)(1)(2)| = 2 > 0 \\\\\n",
    "\\therefore \\text{ the 5-cycle is repelling.}\n",
    "$$"
   ]
  }
 ],
 "metadata": {
  "language_info": {
   "name": "python"
  }
 },
 "nbformat": 4,
 "nbformat_minor": 2
}
