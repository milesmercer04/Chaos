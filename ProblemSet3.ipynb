{
 "cells": [
  {
   "cell_type": "markdown",
   "metadata": {},
   "source": [
    "# Problem Set 3"
   ]
  },
  {
   "cell_type": "markdown",
   "metadata": {},
   "source": [
    "## Problem 1:\n",
    "## (a)\n",
    "$$S(x) = \\frac{\\pi}{2}\\sin x$$\n",
    "$\\textbf{Findng fixed points:}$\n",
    "$$\n",
    "\\begin{align*}\n",
    "S(x) &= x \\qquad & \\text{Must be true for x to be a f.p.} \\\\\n",
    "\\frac{\\pi}{2}\\sin x &= x \\\\\n",
    "x &= -\\frac{\\pi}{2}, 0, \\frac{\\pi}{2}\n",
    "\\end{align*}\n",
    "$$\n",
    "$\\textbf{Classifying } p = -\\frac{\\pi}{2}\\textbf{:}$\n",
    "$$\n",
    "|S'(-\\frac{\\pi}{2})| = |\\frac{\\pi}{2}\\cos(-\\frac{\\pi}{2})| = 0 < 1 \\therefore p = -\\frac{\\pi}{2} \\text{ is attracting.}\n",
    "$$\n",
    "$\\textbf{Classifying } p = 0 \\textbf{:}$\n",
    "$$\n",
    "|S'(0)| = |\\frac{\\pi}{2}\\cos(0)| = \\frac{\\pi}{2} > 1 \\therefore p = 0 \\text{ is repelling.}\n",
    "$$\n",
    "$\\textbf{Classifying } p = \\frac{\\pi}{2}\\textbf{:}$\n",
    "$$\n",
    "|S'(\\frac{\\pi}{2})| = |\\frac{\\pi}{2}\\cos(\\frac{\\pi}{2})| = 0 < 1 \\therefore p = \\frac{\\pi}{2} \\text{ is attracting.}\n",
    "$$\n",
    "\n",
    "## (b)\n",
    "$$F(x) = x^4 - 4x^2 + 2$$\n",
    "$\\textbf{Finding fixed points:}$\n",
    "$$\n",
    "F(x) = x \\\\\n",
    "x^4 - 4x^2 + 2 = x \\\\\n",
    "x^4 - 4x^2 - x + 2 = 0 \\\\\n",
    "(x - 2)(x^3 + 2x^2 - 1) = 0 \\\\\n",
    "(x - 2)(x + 1)(x^2 + x - 1) = 0 \\\\\n",
    "x = -1, 2, -\\frac{1}{2}\\pm\\frac{\\sqrt{5}}{2}\n",
    "$$\n",
    "$\\textbf{Classifying } p = -1\\textbf{:}$\n",
    "$$\n",
    "|F'(-1)| = |4(-1)^3 - 8(-1)| = 4 > 1 \\therefore p = -1 \\text{ is repelling.}\n",
    "$$\n",
    "$\\textbf{Classifying } p = 2\\textbf{:}$\n",
    "$$\n",
    "|F'(2)| = |4(2)^3 - 8(2)| = 8 > 1 \\therefore p = 2 \\text{ is repelling.}\n",
    "$$\n",
    "$\\textbf{Classifying } p = -\\frac{1}{2}-\\frac{\\sqrt{5}}{2}\\textbf{:}$\n",
    "$$\n",
    "|F'(-\\frac{1}{2}-\\frac{\\sqrt{5}}{2})| = |4(-\\frac{1}{2}-\\frac{\\sqrt{5}}{2})^3 - 8(-\\frac{1}{2}-\\frac{\\sqrt{5}}{2})| = |-4| = 4 > 1 \\therefore p = -\\frac{1}{2}-\\frac{\\sqrt{5}}{2} \\text{ is repelling.}\n",
    "$$\n",
    "$\\textbf{Classifying } p = -\\frac{1}{2}+\\frac{\\sqrt{5}}{2}\\textbf{:}$\n",
    "$$\n",
    "|F'(-\\frac{1}{2}+\\frac{\\sqrt{5}}{2})| = |4(-\\frac{1}{2}+\\frac{\\sqrt{5}}{2})^3 - 8(-\\frac{1}{2}+\\frac{\\sqrt{5}}{2})| = |-4| = 4 > 1 \\therefore p = -\\frac{1}{2}+\\frac{\\sqrt{5}}{2} \\text{ is repelling.}\n",
    "$$"
   ]
  }
 ],
 "metadata": {
  "language_info": {
   "name": "python"
  }
 },
 "nbformat": 4,
 "nbformat_minor": 2
}
