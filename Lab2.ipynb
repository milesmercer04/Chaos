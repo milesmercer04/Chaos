{
 "cells": [
  {
   "cell_type": "markdown",
   "metadata": {},
   "source": [
    "# Lab 2: Transition to Chaos"
   ]
  },
  {
   "cell_type": "code",
   "execution_count": 2,
   "metadata": {},
   "outputs": [],
   "source": [
    "import numpy as np\n",
    "import matplotlib.pyplot as plt"
   ]
  },
  {
   "cell_type": "code",
   "execution_count": 3,
   "metadata": {},
   "outputs": [],
   "source": [
    "# Compute \"tail-end\" of orbit, returning as a list\n",
    "def compute_quadradit_orbit(c, x_0, iter=1000000, discard=999500):\n",
    "    f = lambda x: x**2 + c\n",
    "    orbit = []\n",
    "\n",
    "    for _ in range(discard):\n",
    "        x_0 = f(x_0)\n",
    "\n",
    "    for _ in range(discard, iter):\n",
    "        x_0 = f(x_0)\n",
    "        orbit.append(x_0)\n",
    "\n",
    "    return orbit"
   ]
  },
  {
   "cell_type": "code",
   "execution_count": 4,
   "metadata": {},
   "outputs": [],
   "source": [
    "# Analyze the tail end of the orbit and return result\n",
    "def analyze_orbit(orbit, max_period=32, tol=1e-3):\n",
    "    # Check if orbit approaches a fixed point\n",
    "    if np.isclose(orbit[-1], orbit[-2], atol=tol):\n",
    "        return {'type': 'fixed', 'values': [orbit[-1]]}\n",
    "    \n",
    "    # Check if orbit approaches a periodic orbit\n",
    "    for period in range(2, max_period+1):\n",
    "        if np.allclose(orbit[-period:], orbit[-2*period:-period], atol=tol):\n",
    "            return {'type': 'periodic', 'values': orbit[-period:]}\n",
    "        \n",
    "    # Neither fixed nor periodic, consider chaotic and return range of values\n",
    "    return {'type': 'chaotic', 'values': orbit}"
   ]
  },
  {
   "cell_type": "code",
   "execution_count": 5,
   "metadata": {},
   "outputs": [],
   "source": [
    "c_values = np.linspace(-2, 0.25, 500)\n",
    "plt.figure(figsize=(10, 6))\n",
    "\n",
    "for c in c_values:\n",
    "    orbit = compute_quadradit_orbit(c, x_0=0)\n",
    "    result = analyze_orbit(orbit)\n",
    "\n",
    "    if result['type'] == 'fixed' or result['type'] == 'periodic':\n",
    "        for val in result['values']:\n",
    "            plt.plot(c, val, 'ko', markersize=1)\n",
    "    else:\n",
    "        for val in result['values']:\n",
    "            plt.plot(c, val, 'ro', alpha=0.2, markersize=1)\n",
    "\n",
    "    # if result['type'] == 'fixed':\n",
    "    #         plt.plot(c, result['values'], 'bo', markersize=1)  # Fixed points as blue dots\n",
    "    # elif result['type'] == 'periodic':\n",
    "    #     for val in result['values']:\n",
    "    #         plt.plot(c, val, 'go', markersize=1)  # Cycle points as green dots\n",
    "    # elif result['type'] == 'chaotic':\n",
    "    #     # Plotting chaotic behavior as a vertical line (or densely packed vertical points)\n",
    "    #     plt.vlines(c, ymin=result['values'][0], ymax=result['values'][1], colors='r', linewidth=1)\n",
    "\n",
    "plt.xlabel('c-value')\n",
    "plt.ylabel('Orbit Behavior')\n",
    "plt.title('Behavior of Orbits in the Quadratic Map')\n",
    "plt.savefig('OrbitDiagram_Alpha02.png')\n",
    "plt.show()"
   ]
  }
 ],
 "metadata": {
  "kernelspec": {
   "display_name": "chaos",
   "language": "python",
   "name": "python3"
  },
  "language_info": {
   "codemirror_mode": {
    "name": "ipython",
    "version": 3
   },
   "file_extension": ".py",
   "mimetype": "text/x-python",
   "name": "python",
   "nbconvert_exporter": "python",
   "pygments_lexer": "ipython3",
   "version": "3.11.5"
  }
 },
 "nbformat": 4,
 "nbformat_minor": 2
}
